{
  "nbformat": 4,
  "nbformat_minor": 0,
  "metadata": {
    "colab": {
      "provenance": [],
      "authorship_tag": "ABX9TyNPz5BTlg4l7zdbcHfND4He",
      "include_colab_link": true
    },
    "kernelspec": {
      "name": "python3",
      "display_name": "Python 3"
    },
    "language_info": {
      "name": "python"
    }
  },
  "cells": [
    {
      "cell_type": "markdown",
      "metadata": {
        "id": "view-in-github",
        "colab_type": "text"
      },
      "source": [
        "<a href=\"https://colab.research.google.com/github/yash-clear/Web-Scrapping-and-Machine-Learning/blob/main/WebScraping.ipynb\" target=\"_parent\"><img src=\"https://colab.research.google.com/assets/colab-badge.svg\" alt=\"Open In Colab\"/></a>"
      ]
    },
    {
      "cell_type": "markdown",
      "source": [
        "#Problem 1\n",
        "\n",
        "##Write a web scraping script which takes an input of any film actor and gives the output of filmography of that actor in descending order.\n",
        "\n"
      ],
      "metadata": {
        "id": "FZ6gy1QhyTRt"
      }
    },
    {
      "cell_type": "code",
      "source": [
        "!pip install requests --upgrade  --quiet \n",
        "import requests"
      ],
      "metadata": {
        "id": "OvbJ-s_dc71-"
      },
      "execution_count": 76,
      "outputs": []
    },
    {
      "cell_type": "code",
      "source": [
        "Filmography_url = 'https://en.wikipedia.org/wiki/Category:Indian_filmographies'\n",
        "response = requests.get(Filmography_url)"
      ],
      "metadata": {
        "id": "wDoEhPPwdEUO"
      },
      "execution_count": 77,
      "outputs": []
    },
    {
      "cell_type": "code",
      "source": [
        "response.status_code    "
      ],
      "metadata": {
        "colab": {
          "base_uri": "https://localhost:8080/"
        },
        "id": "KWhwbfXhdOt6",
        "outputId": "83fb55bf-371c-4946-e1e9-00c0323ef143"
      },
      "execution_count": 78,
      "outputs": [
        {
          "output_type": "execute_result",
          "data": {
            "text/plain": [
              "200"
            ]
          },
          "metadata": {},
          "execution_count": 78
        }
      ]
    },
    {
      "cell_type": "code",
      "source": [
        "page_contents = response.text\n"
      ],
      "metadata": {
        "id": "4Lpy2KrldXdz"
      },
      "execution_count": 79,
      "outputs": []
    },
    {
      "cell_type": "code",
      "source": [
        "with open('webpage.html','w') as f: \n",
        "    f.write(page_contents)"
      ],
      "metadata": {
        "id": "1koN9yQGdfxC"
      },
      "execution_count": 80,
      "outputs": []
    },
    {
      "cell_type": "code",
      "source": [
        "!pip install beautifulsoup4 --upgrade  --quiet \n",
        "from bs4 import BeautifulSoup\n",
        "doc = BeautifulSoup(page_contents, 'html.parser')  #Now 'doc' contains entire html in parsed format"
      ],
      "metadata": {
        "id": "ExlI81cLdrC5"
      },
      "execution_count": 81,
      "outputs": []
    },
    {
      "cell_type": "code",
      "source": [
        "title = doc.find('title')\n",
        "title"
      ],
      "metadata": {
        "colab": {
          "base_uri": "https://localhost:8080/"
        },
        "id": "vBfCUmBsdvbN",
        "outputId": "9e734eef-335d-4417-974a-dcc5ab6e5d94"
      },
      "execution_count": 82,
      "outputs": [
        {
          "output_type": "execute_result",
          "data": {
            "text/plain": [
              "<title>Category:Indian filmographies - Wikipedia</title>"
            ]
          },
          "metadata": {},
          "execution_count": 82
        }
      ]
    },
    {
      "cell_type": "code",
      "source": [
        "# This is to get the name of actors/actress.\n",
        "\n",
        "a_tags = doc.find_all('a',{'class': None})\n",
        "len(a_tags)"
      ],
      "metadata": {
        "colab": {
          "base_uri": "https://localhost:8080/"
        },
        "id": "TpTLqfU9d-GC",
        "outputId": "913ab01e-3f6b-4c81-c8e9-38fa16949770"
      },
      "execution_count": 83,
      "outputs": [
        {
          "output_type": "execute_result",
          "data": {
            "text/plain": [
              "260"
            ]
          },
          "metadata": {},
          "execution_count": 83
        }
      ]
    },
    {
      "cell_type": "code",
      "source": [
        "titles_a_tag = []\n",
        "for tag in a_tags:\n",
        "    if 'filmography' in tag.text:\n",
        "        titles_a_tag.append(tag['title'].replace('filmography',''))\n",
        "titles_a_tag[:5]"
      ],
      "metadata": {
        "colab": {
          "base_uri": "https://localhost:8080/"
        },
        "id": "U0eAo2EHd6T7",
        "outputId": "5892656c-5a43-4270-8da9-f06ae074b33e"
      },
      "execution_count": 84,
      "outputs": [
        {
          "output_type": "execute_result",
          "data": {
            "text/plain": [
              "['John Abraham ',\n",
              " 'Kajal Aggarwal ',\n",
              " 'Samantha Ruth Prabhu ',\n",
              " 'Ali ',\n",
              " 'Zeenat Aman ']"
            ]
          },
          "metadata": {},
          "execution_count": 84
        }
      ]
    },
    {
      "cell_type": "code",
      "source": [
        "# Now we need to fetch the URL's of all the filmographies\n",
        "# I have taken all the filmographies url which has \"filmography\" in all of them.\n",
        "link_a_tag = []\n",
        "for tag in a_tags:\n",
        "    if 'filmography' in tag.text:\n",
        "        link_a_tag.append(tag['href'])\n",
        "link_a_tag[:10]"
      ],
      "metadata": {
        "colab": {
          "base_uri": "https://localhost:8080/"
        },
        "id": "32qB07HbeNIX",
        "outputId": "fe7b48aa-7e53-4655-8388-4cb733fab981"
      },
      "execution_count": 85,
      "outputs": [
        {
          "output_type": "execute_result",
          "data": {
            "text/plain": [
              "['/wiki/John_Abraham_filmography',\n",
              " '/wiki/Kajal_Aggarwal_filmography',\n",
              " '/wiki/Samantha_Ruth_Prabhu_filmography',\n",
              " '/wiki/Ali_filmography',\n",
              " '/wiki/Zeenat_Aman_filmography',\n",
              " '/wiki/Ambareesh_filmography',\n",
              " '/wiki/Dev_Anand_filmography',\n",
              " '/wiki/Anil_Panachooran_filmography',\n",
              " '/wiki/Ramesh_Aravind_filmography',\n",
              " '/wiki/Allu_Arjun_filmography']"
            ]
          },
          "metadata": {},
          "execution_count": 85
        }
      ]
    },
    {
      "cell_type": "code",
      "source": [
        "# To get the full link we need to give the \"Base URL\" which is given below\n",
        "Filmography0_url = \"https://en.wikipedia.org/\"+ link_a_tag[0]\n",
        "Filmography0_url # This is the first URl."
      ],
      "metadata": {
        "colab": {
          "base_uri": "https://localhost:8080/",
          "height": 36
        },
        "id": "4EojJqgieOog",
        "outputId": "646c1adc-501a-4a26-de70-6859955e62e6"
      },
      "execution_count": 86,
      "outputs": [
        {
          "output_type": "execute_result",
          "data": {
            "text/plain": [
              "'https://en.wikipedia.org//wiki/John_Abraham_filmography'"
            ],
            "application/vnd.google.colaboratory.intrinsic+json": {
              "type": "string"
            }
          },
          "metadata": {},
          "execution_count": 86
        }
      ]
    },
    {
      "cell_type": "code",
      "source": [
        "# WE need to loop over to get all the URl's\n",
        "Filmography_urls = []\n",
        "\n",
        "for i in range(len(link_a_tag)):\n",
        "    \n",
        "    Filmography_urls.append(\"https://en.wikipedia.org/\"+ link_a_tag[i])"
      ],
      "metadata": {
        "id": "pkhQqzyieT_E"
      },
      "execution_count": null,
      "outputs": []
    },
    {
      "cell_type": "code",
      "source": [
        "!pip install pandas --upgrade --quiet    #Installing Pandas Library\n",
        "import pandas as pd"
      ],
      "metadata": {
        "id": "VESco0-bel0G"
      },
      "execution_count": 88,
      "outputs": []
    },
    {
      "cell_type": "code",
      "source": [
        "Filmography_dict = {\n",
        "    'Actor/Actress_Name' : titles_a_tag,\n",
        "    'Url_Of_Profiles': Filmography_urls,\n",
        "}"
      ],
      "metadata": {
        "id": "rrDmJZgqe20O"
      },
      "execution_count": 89,
      "outputs": []
    },
    {
      "cell_type": "code",
      "source": [
        "Filmography_df = pd.DataFrame(Filmography_dict)  #Here we convert the dictionary into a Pandas DataFrame"
      ],
      "metadata": {
        "id": "WeIvGnm7e76k"
      },
      "execution_count": 90,
      "outputs": []
    },
    {
      "cell_type": "code",
      "source": [
        "Filmography_df"
      ],
      "metadata": {
        "id": "WVXmSQO9mLzl",
        "outputId": "85eb69b6-3058-4113-84da-0632e22b06a2",
        "colab": {
          "base_uri": "https://localhost:8080/",
          "height": 423
        }
      },
      "execution_count": 91,
      "outputs": [
        {
          "output_type": "execute_result",
          "data": {
            "text/plain": [
              "        Actor/Actress_Name                                    Url_Of_Profiles\n",
              "0            John Abraham   https://en.wikipedia.org//wiki/John_Abraham_fi...\n",
              "1          Kajal Aggarwal   https://en.wikipedia.org//wiki/Kajal_Aggarwal_...\n",
              "2    Samantha Ruth Prabhu   https://en.wikipedia.org//wiki/Samantha_Ruth_P...\n",
              "3                     Ali      https://en.wikipedia.org//wiki/Ali_filmography\n",
              "4             Zeenat Aman   https://en.wikipedia.org//wiki/Zeenat_Aman_fil...\n",
              "..                     ...                                                ...\n",
              "182               Savitri   https://en.wikipedia.org//wiki/Savitri_filmogr...\n",
              "183                Seeman   https://en.wikipedia.org//wiki/Seeman_filmography\n",
              "184            Aparna Sen   https://en.wikipedia.org//wiki/Aparna_Sen_film...\n",
              "185       Jisshu Sengupta   https://en.wikipedia.org//wiki/Jisshu_Sengupta...\n",
              "186      Vijay Sethupathi   https://en.wikipedia.org//wiki/Vijay_Sethupath...\n",
              "\n",
              "[187 rows x 2 columns]"
            ],
            "text/html": [
              "\n",
              "  <div id=\"df-7f3ddacf-cfd3-4f97-a2ae-ba5a734e8ad1\">\n",
              "    <div class=\"colab-df-container\">\n",
              "      <div>\n",
              "<style scoped>\n",
              "    .dataframe tbody tr th:only-of-type {\n",
              "        vertical-align: middle;\n",
              "    }\n",
              "\n",
              "    .dataframe tbody tr th {\n",
              "        vertical-align: top;\n",
              "    }\n",
              "\n",
              "    .dataframe thead th {\n",
              "        text-align: right;\n",
              "    }\n",
              "</style>\n",
              "<table border=\"1\" class=\"dataframe\">\n",
              "  <thead>\n",
              "    <tr style=\"text-align: right;\">\n",
              "      <th></th>\n",
              "      <th>Actor/Actress_Name</th>\n",
              "      <th>Url_Of_Profiles</th>\n",
              "    </tr>\n",
              "  </thead>\n",
              "  <tbody>\n",
              "    <tr>\n",
              "      <th>0</th>\n",
              "      <td>John Abraham</td>\n",
              "      <td>https://en.wikipedia.org//wiki/John_Abraham_fi...</td>\n",
              "    </tr>\n",
              "    <tr>\n",
              "      <th>1</th>\n",
              "      <td>Kajal Aggarwal</td>\n",
              "      <td>https://en.wikipedia.org//wiki/Kajal_Aggarwal_...</td>\n",
              "    </tr>\n",
              "    <tr>\n",
              "      <th>2</th>\n",
              "      <td>Samantha Ruth Prabhu</td>\n",
              "      <td>https://en.wikipedia.org//wiki/Samantha_Ruth_P...</td>\n",
              "    </tr>\n",
              "    <tr>\n",
              "      <th>3</th>\n",
              "      <td>Ali</td>\n",
              "      <td>https://en.wikipedia.org//wiki/Ali_filmography</td>\n",
              "    </tr>\n",
              "    <tr>\n",
              "      <th>4</th>\n",
              "      <td>Zeenat Aman</td>\n",
              "      <td>https://en.wikipedia.org//wiki/Zeenat_Aman_fil...</td>\n",
              "    </tr>\n",
              "    <tr>\n",
              "      <th>...</th>\n",
              "      <td>...</td>\n",
              "      <td>...</td>\n",
              "    </tr>\n",
              "    <tr>\n",
              "      <th>182</th>\n",
              "      <td>Savitri</td>\n",
              "      <td>https://en.wikipedia.org//wiki/Savitri_filmogr...</td>\n",
              "    </tr>\n",
              "    <tr>\n",
              "      <th>183</th>\n",
              "      <td>Seeman</td>\n",
              "      <td>https://en.wikipedia.org//wiki/Seeman_filmography</td>\n",
              "    </tr>\n",
              "    <tr>\n",
              "      <th>184</th>\n",
              "      <td>Aparna Sen</td>\n",
              "      <td>https://en.wikipedia.org//wiki/Aparna_Sen_film...</td>\n",
              "    </tr>\n",
              "    <tr>\n",
              "      <th>185</th>\n",
              "      <td>Jisshu Sengupta</td>\n",
              "      <td>https://en.wikipedia.org//wiki/Jisshu_Sengupta...</td>\n",
              "    </tr>\n",
              "    <tr>\n",
              "      <th>186</th>\n",
              "      <td>Vijay Sethupathi</td>\n",
              "      <td>https://en.wikipedia.org//wiki/Vijay_Sethupath...</td>\n",
              "    </tr>\n",
              "  </tbody>\n",
              "</table>\n",
              "<p>187 rows × 2 columns</p>\n",
              "</div>\n",
              "      <button class=\"colab-df-convert\" onclick=\"convertToInteractive('df-7f3ddacf-cfd3-4f97-a2ae-ba5a734e8ad1')\"\n",
              "              title=\"Convert this dataframe to an interactive table.\"\n",
              "              style=\"display:none;\">\n",
              "        \n",
              "  <svg xmlns=\"http://www.w3.org/2000/svg\" height=\"24px\"viewBox=\"0 0 24 24\"\n",
              "       width=\"24px\">\n",
              "    <path d=\"M0 0h24v24H0V0z\" fill=\"none\"/>\n",
              "    <path d=\"M18.56 5.44l.94 2.06.94-2.06 2.06-.94-2.06-.94-.94-2.06-.94 2.06-2.06.94zm-11 1L8.5 8.5l.94-2.06 2.06-.94-2.06-.94L8.5 2.5l-.94 2.06-2.06.94zm10 10l.94 2.06.94-2.06 2.06-.94-2.06-.94-.94-2.06-.94 2.06-2.06.94z\"/><path d=\"M17.41 7.96l-1.37-1.37c-.4-.4-.92-.59-1.43-.59-.52 0-1.04.2-1.43.59L10.3 9.45l-7.72 7.72c-.78.78-.78 2.05 0 2.83L4 21.41c.39.39.9.59 1.41.59.51 0 1.02-.2 1.41-.59l7.78-7.78 2.81-2.81c.8-.78.8-2.07 0-2.86zM5.41 20L4 18.59l7.72-7.72 1.47 1.35L5.41 20z\"/>\n",
              "  </svg>\n",
              "      </button>\n",
              "      \n",
              "  <style>\n",
              "    .colab-df-container {\n",
              "      display:flex;\n",
              "      flex-wrap:wrap;\n",
              "      gap: 12px;\n",
              "    }\n",
              "\n",
              "    .colab-df-convert {\n",
              "      background-color: #E8F0FE;\n",
              "      border: none;\n",
              "      border-radius: 50%;\n",
              "      cursor: pointer;\n",
              "      display: none;\n",
              "      fill: #1967D2;\n",
              "      height: 32px;\n",
              "      padding: 0 0 0 0;\n",
              "      width: 32px;\n",
              "    }\n",
              "\n",
              "    .colab-df-convert:hover {\n",
              "      background-color: #E2EBFA;\n",
              "      box-shadow: 0px 1px 2px rgba(60, 64, 67, 0.3), 0px 1px 3px 1px rgba(60, 64, 67, 0.15);\n",
              "      fill: #174EA6;\n",
              "    }\n",
              "\n",
              "    [theme=dark] .colab-df-convert {\n",
              "      background-color: #3B4455;\n",
              "      fill: #D2E3FC;\n",
              "    }\n",
              "\n",
              "    [theme=dark] .colab-df-convert:hover {\n",
              "      background-color: #434B5C;\n",
              "      box-shadow: 0px 1px 3px 1px rgba(0, 0, 0, 0.15);\n",
              "      filter: drop-shadow(0px 1px 2px rgba(0, 0, 0, 0.3));\n",
              "      fill: #FFFFFF;\n",
              "    }\n",
              "  </style>\n",
              "\n",
              "      <script>\n",
              "        const buttonEl =\n",
              "          document.querySelector('#df-7f3ddacf-cfd3-4f97-a2ae-ba5a734e8ad1 button.colab-df-convert');\n",
              "        buttonEl.style.display =\n",
              "          google.colab.kernel.accessAllowed ? 'block' : 'none';\n",
              "\n",
              "        async function convertToInteractive(key) {\n",
              "          const element = document.querySelector('#df-7f3ddacf-cfd3-4f97-a2ae-ba5a734e8ad1');\n",
              "          const dataTable =\n",
              "            await google.colab.kernel.invokeFunction('convertToInteractive',\n",
              "                                                     [key], {});\n",
              "          if (!dataTable) return;\n",
              "\n",
              "          const docLinkHtml = 'Like what you see? Visit the ' +\n",
              "            '<a target=\"_blank\" href=https://colab.research.google.com/notebooks/data_table.ipynb>data table notebook</a>'\n",
              "            + ' to learn more about interactive tables.';\n",
              "          element.innerHTML = '';\n",
              "          dataTable['output_type'] = 'display_data';\n",
              "          await google.colab.output.renderOutput(dataTable, element);\n",
              "          const docLink = document.createElement('div');\n",
              "          docLink.innerHTML = docLinkHtml;\n",
              "          element.appendChild(docLink);\n",
              "        }\n",
              "      </script>\n",
              "    </div>\n",
              "  </div>\n",
              "  "
            ]
          },
          "metadata": {},
          "execution_count": 91
        }
      ]
    },
    {
      "cell_type": "code",
      "source": [
        "name = input()"
      ],
      "metadata": {
        "id": "KDzWtDYMnj80",
        "outputId": "9fca3d58-a7ae-4c35-8992-ac7474fdde1d",
        "colab": {
          "base_uri": "https://localhost:8080/"
        }
      },
      "execution_count": 110,
      "outputs": [
        {
          "name": "stdout",
          "output_type": "stream",
          "text": [
            "Samantha Ruth Prabhu \n"
          ]
        }
      ]
    },
    {
      "cell_type": "code",
      "source": [
        "index = 0\n",
        "for i in Filmography_df['Actor/Actress_Name']:\n",
        "  if i == name:\n",
        "    index\n",
        "    break\n",
        "  index+=1"
      ],
      "metadata": {
        "id": "HeKm-N1pobJe"
      },
      "execution_count": 118,
      "outputs": []
    },
    {
      "cell_type": "code",
      "source": [
        "index "
      ],
      "metadata": {
        "id": "nOX76MlxpqpH",
        "outputId": "00f1efa8-71d1-4d67-c911-4a3291c58f44",
        "colab": {
          "base_uri": "https://localhost:8080/"
        }
      },
      "execution_count": 119,
      "outputs": [
        {
          "output_type": "execute_result",
          "data": {
            "text/plain": [
              "2"
            ]
          },
          "metadata": {},
          "execution_count": 119
        }
      ]
    },
    {
      "cell_type": "code",
      "source": [
        "urls = [Filmography_df['Url_Of_Profiles'][index]]\n"
      ],
      "metadata": {
        "id": "uB9GqdeZmQX8"
      },
      "execution_count": 120,
      "outputs": []
    },
    {
      "cell_type": "code",
      "source": [
        "urls"
      ],
      "metadata": {
        "id": "qrd4PTnSnHt8",
        "outputId": "d796e1f5-c7c6-4bff-c744-3f007352f6ef",
        "colab": {
          "base_uri": "https://localhost:8080/"
        }
      },
      "execution_count": 121,
      "outputs": [
        {
          "output_type": "execute_result",
          "data": {
            "text/plain": [
              "['https://en.wikipedia.org//wiki/Samantha_Ruth_Prabhu_filmography']"
            ]
          },
          "metadata": {},
          "execution_count": 121
        }
      ]
    },
    {
      "cell_type": "code",
      "source": [
        "# get_docs fuction will reterive all the tables which has class \"Wikitable\"\n",
        "# and also get_docs function will get all the \"h1\" tags and replace filmography with empty space so that we will get all the Actor/Actress name.\n",
        "def get_docs(films_urls):\n",
        "    doc_list = []\n",
        "    title_list = []\n",
        "    for url in films_urls:\n",
        "        # Fetch and parse url's using Bs4\n",
        "        response = requests.get(url)\n",
        "        response.status_code\n",
        "        if response.status_code == 200 : # check the status_code \n",
        "            topic_doc = BeautifulSoup(response.text,'html.parser')\n",
        "            title_tags = topic_doc.find('h1').text.replace(' filmography','')\n",
        "            body_tags = topic_doc.find_all('table',{'class' : 'wikitable'})\n",
        "            doc_list.append(body_tags)\n",
        "            title_list.append(title_tags)\n",
        "        else :\n",
        "            print('Failed to load page {}'.format(url)) # if status_code is not equal to 200\n",
        "    return doc_list,title_list"
      ],
      "metadata": {
        "id": "-xgtTMJ8fFF3"
      },
      "execution_count": 122,
      "outputs": []
    },
    {
      "cell_type": "code",
      "source": [
        "Table_urls, title_tags = get_docs(urls) "
      ],
      "metadata": {
        "id": "H5EnHNm8fJzL"
      },
      "execution_count": 123,
      "outputs": []
    },
    {
      "cell_type": "code",
      "source": [
        "title_tags"
      ],
      "metadata": {
        "colab": {
          "base_uri": "https://localhost:8080/"
        },
        "id": "tPWkdPd2fLx9",
        "outputId": "7213362d-56be-44fa-fc14-30188001ec10"
      },
      "execution_count": 124,
      "outputs": [
        {
          "output_type": "execute_result",
          "data": {
            "text/plain": [
              "['Samantha Ruth Prabhu']"
            ]
          },
          "metadata": {},
          "execution_count": 124
        }
      ]
    },
    {
      "cell_type": "code",
      "source": [
        "csv = 'my_file.csv'\n",
        "def DataFrames(Tables):\n",
        "    dfs = []\n",
        "    for i in Tables:\n",
        "        df=pd.read_html(str(i))\n",
        "        df[0].to_csv(csv)\n",
        "        dfs.append(df)\n",
        "    return df\n",
        "    "
      ],
      "metadata": {
        "id": "q1E14A5cfOh-"
      },
      "execution_count": 125,
      "outputs": []
    },
    {
      "cell_type": "code",
      "source": [
        "# here we have the names of few actor/actress which we have taken in our data.\n",
        "# we are adding the actor/actress column in the dataframe. \n",
        "dfs = DataFrames(Table_urls)\n",
        "for df, title in zip(dfs, title_tags) :\n",
        "    df['Actor/Actress'] = title\n",
        "dfs"
      ],
      "metadata": {
        "colab": {
          "base_uri": "https://localhost:8080/"
        },
        "id": "vdJVYrXtfSkX",
        "outputId": "60d0a4a4-8b54-441a-b3bd-3e76acd51cbb"
      },
      "execution_count": 127,
      "outputs": [
        {
          "output_type": "execute_result",
          "data": {
            "text/plain": [
              "[    0                                              1         Actor/Actress\n",
              " 0 NaN  Denotes films that have not yet been released  Samantha Ruth Prabhu,\n",
              "     Year                               Title  \\\n",
              " 0   2010                    Ye Maaya Chesave   \n",
              " 1   2010            Vinnaithaandi Varuvaayaa   \n",
              " 2   2010                      Baana Kaathadi   \n",
              " 3   2010                     Moscowin Kavery   \n",
              " 4   2010                         Brindavanam   \n",
              " 5   2011                    Nadunisi Naaygal   \n",
              " 6   2011                             Dookudu   \n",
              " 7   2012                     Ekk Deewana Tha   \n",
              " 8   2012                                Eega   \n",
              " 9   2012                             Naan Ee   \n",
              " 10  2012           Neethaane En Ponvasantham   \n",
              " 11  2012           Yeto Vellipoyindhi Manasu   \n",
              " 12  2013  Seethamma Vakitlo Sirimalle Chettu   \n",
              " 13  2013                          Jabardasth   \n",
              " 14  2013       Theeya Velai Seiyyanum Kumaru   \n",
              " 15  2013                  Attarintiki Daredi   \n",
              " 16  2013                 Ramayya Vasthavayya   \n",
              " 17  2014                               Manam   \n",
              " 18  2014                     Autonagar Surya   \n",
              " 19  2014                        Alludu Seenu   \n",
              " 20  2014                              Anjaan   \n",
              " 21  2014                             Rabhasa   \n",
              " 22  2014                             Kaththi   \n",
              " 23  2015                     S/O Satyamurthy   \n",
              " 24  2015                    10 Endrathukulla   \n",
              " 25  2015                        Thanga Magan   \n",
              " 26  2016                   Bangalore Naatkal   \n",
              " 27  2016                               Theri   \n",
              " 28  2016                                  24   \n",
              " 29  2016                        Brahmotsavam   \n",
              " 30  2016                                A Aa   \n",
              " 31  2016                      Janatha Garage   \n",
              " 32  2017                   Raju Gari Gadhi 2   \n",
              " 33  2017                              Mersal   \n",
              " 34  2018                        Rangasthalam   \n",
              " 35  2018                            Mahanati   \n",
              " 36  2018                       Irumbu Thirai   \n",
              " 37  2018                           Seemaraja   \n",
              " 38  2018                              U Turn   \n",
              " 39  2018                              U Turn   \n",
              " 40  2019                        Super Deluxe   \n",
              " 41  2019                              Majili   \n",
              " 42  2019                            Oh! Baby   \n",
              " 43  2019                        Manmadhudu 2   \n",
              " 44  2020                               Jaanu   \n",
              " 45  2021                    Pushpa: The Rise   \n",
              " 46  2022         Kaathuvaakula Rendu Kaadhal   \n",
              " 47  2022                             Yashoda   \n",
              " 48  2023                        Shaakuntalam   \n",
              " 49  2023                               Kushi   \n",
              " 50  2023                                 NaN   \n",
              " \n",
              "                               Role(s) Language(s)  \\\n",
              " 0                  Jessie Thekkekuttu      Telugu   \n",
              " 1                             Nandini       Tamil   \n",
              " 2                               Priya       Tamil   \n",
              " 3                              Kavery       Tamil   \n",
              " 4                                Indu      Telugu   \n",
              " 5                      Asylum patient       Tamil   \n",
              " 6                          Prashanthi      Telugu   \n",
              " 7                            Samantha       Hindi   \n",
              " 8                               Bindu      Telugu   \n",
              " 9                               Bindu       Tamil   \n",
              " 10                   Nithya Vasudevan       Tamil   \n",
              " 11                  Nithya Yelavarthi      Telugu   \n",
              " 12                             Geetha      Telugu   \n",
              " 13                             Shreya      Telugu   \n",
              " 14                            Herself       Tamil   \n",
              " 15                              Sashi      Telugu   \n",
              " 16                            Akarsha      Telugu   \n",
              " 17           Krishnaveni and Priya[b]      Telugu   \n",
              " 18                            Sirisha      Telugu   \n",
              " 19                             Anjali      Telugu   \n",
              " 20                              Jeeva       Tamil   \n",
              " 21                               Indu      Telugu   \n",
              " 22                            Ankitha       Tamil   \n",
              " 23                            Sameera      Telugu   \n",
              " 24           Shakila and Gadgi Moi[b]       Tamil   \n",
              " 25                             Yamuna       Tamil   \n",
              " 26                      Grace Francis       Tamil   \n",
              " 27                             Mithra       Tamil   \n",
              " 28               Sathyabhama \"Sathya\"       Tamil   \n",
              " 29                        Unnamed NRI      Telugu   \n",
              " 30                 Anasuya Ramalingam      Telugu   \n",
              " 31                              Bujji      Telugu   \n",
              " 32                            Amrutha      Telugu   \n",
              " 33                               Tara       Tamil   \n",
              " 34                       Rama Lakshmi      Telugu   \n",
              " 35                        Madhuravani      Telugu   \n",
              " 36                     Dr. Rathi Devi       Tamil   \n",
              " 37  Sudhanthira Selvi (Silambu Selvi)       Tamil   \n",
              " 38                            Rachana       Tamil   \n",
              " 39                            Rachana      Telugu   \n",
              " 40                             Vaembu       Tamil   \n",
              " 41                            Sravani      Telugu   \n",
              " 42                   B. Swathi \"Baby\"      Telugu   \n",
              " 43               Architecture student      Telugu   \n",
              " 44                Janaki \"Jaanu\" Devi      Telugu   \n",
              " 45                                  —      Telugu   \n",
              " 46                      Khatija Begum       Tamil   \n",
              " 47                            Yashoda      Telugu   \n",
              " 48                         Shakuntala      Telugu   \n",
              " 49                                TBA      Telugu   \n",
              " 50                                NaN         NaN   \n",
              " \n",
              "                                                 Notes     Ref(s)  \n",
              " 0   Filmfare Award for Best Female Debut – South N...        [7]  \n",
              " 1                                    Cameo appearance        [8]  \n",
              " 2                                                 NaN        [9]  \n",
              " 3                                                 NaN       [10]  \n",
              " 4                                                 NaN       [11]  \n",
              " 5                                    Cameo appearance       [12]  \n",
              " 6   Nominated— Filmfare Award for Best Actress – T...       [13]  \n",
              " 7                                    Cameo appearance       [14]  \n",
              " 8   Bilingual film Filmfare Award for Best Actress...  [15] [16]  \n",
              " 9   Bilingual film Filmfare Award for Best Actress...  [15] [16]  \n",
              " 10            Filmfare Award for Best Actress – Tamil       [17]  \n",
              " 11                                                NaN       [18]  \n",
              " 12                                                NaN       [19]  \n",
              " 13                                                NaN       [20]  \n",
              " 14                                   Cameo appearance       [21]  \n",
              " 15  Nominated— Filmfare Award for Best Actress – T...       [22]  \n",
              " 16                                                NaN       [23]  \n",
              " 17  Nominated— Filmfare Award for Best Actress – T...       [24]  \n",
              " 18                                                NaN       [25]  \n",
              " 19                                                NaN       [26]  \n",
              " 20                                                NaN       [27]  \n",
              " 21                                                NaN       [28]  \n",
              " 22  Nominated - Filmfare Award for Best Actress – ...       [29]  \n",
              " 23                                                NaN       [30]  \n",
              " 24                                                NaN  [31] [32]  \n",
              " 25                                                NaN       [33]  \n",
              " 26                                   Cameo appearance       [34]  \n",
              " 27  Nominated— Filmfare Award for Best Actress – T...       [35]  \n",
              " 28  Nominated— Filmfare Award for Best Actress – T...       [36]  \n",
              " 29                                                NaN       [37]  \n",
              " 30           Filmfare Award for Best Actress – Telugu       [38]  \n",
              " 31                                                NaN       [39]  \n",
              " 32                                                NaN       [40]  \n",
              " 33                                                NaN       [41]  \n",
              " 34  Nominated— Filmfare Award for Best Actress – T...       [42]  \n",
              " 35  Nominated— Filmfare Award for Best Supporting ...       [43]  \n",
              " 36                                                NaN       [44]  \n",
              " 37                                                NaN       [45]  \n",
              " 38                                     Bilingual film  [46] [47]  \n",
              " 39                                     Bilingual film  [46] [47]  \n",
              " 40                                                NaN       [48]  \n",
              " 41                                                NaN       [49]  \n",
              " 42                                                NaN  [50] [51]  \n",
              " 43                                   Cameo appearance       [52]  \n",
              " 44                                                NaN       [53]  \n",
              " 45  Special appearance in the item number \"Oo Anta...       [54]  \n",
              " 46                                                NaN       [55]  \n",
              " 47                                                NaN       [56]  \n",
              " 48                                    Post-production       [57]  \n",
              " 49                                            Filming       [58]  \n",
              " 50                                                NaN        NaN  ,\n",
              "    Year                              Title        Artist             Notes  \\\n",
              " 0  2010  \"Semmozhiyaana Thamizh Mozhiyaam\"  A. R. Rahman  Non-album single   \n",
              " \n",
              "   .mw-parser-output .tooltip-dotted{border-bottom:1px dotted;cursor:help}Ref.  \n",
              " 0                                               [59]                           ,\n",
              "         Year                     Title                         Role Language  \\\n",
              " 0       2020        Bigg Boss Season 4                         Host   Telugu   \n",
              " 1  2020–2021                   Sam Jam                         Host   Telugu   \n",
              " 2       2021  The Family Man: Season 2  Rajalekshmi \"Raji\" Sekharan    Hindi   \n",
              " 3        TBA                   Citadel                          TBA    Hindi   \n",
              " \n",
              "               Network                     Notes  Ref.  \n",
              " 0            Star Maa  Dusshera special episode  [60]  \n",
              " 1                 Aha             Web talk-show  [61]  \n",
              " 2  Amazon Prime Video       Main role; Season 2  [62]  \n",
              " 3  Amazon Prime Video        Filming; Main role  [63]  ]"
            ]
          },
          "metadata": {},
          "execution_count": 127
        }
      ]
    },
    {
      "cell_type": "code",
      "source": [
        "Table_contents = pd.concat(dfs) # we have concatinate all dataframes using pd.concat()\n",
        "# Table_contents"
      ],
      "metadata": {
        "id": "PO_kUw2DfhOC"
      },
      "execution_count": 128,
      "outputs": []
    },
    {
      "cell_type": "code",
      "source": [
        "df = Table_contents[['Title']]"
      ],
      "metadata": {
        "id": "Hcb9vcmGhM6T"
      },
      "execution_count": 129,
      "outputs": []
    },
    {
      "cell_type": "code",
      "source": [
        "df.head()"
      ],
      "metadata": {
        "colab": {
          "base_uri": "https://localhost:8080/",
          "height": 206
        },
        "id": "ydHQaw7VhWbY",
        "outputId": "69b7440e-ff2a-4e34-f01f-4ae1c0cc09bc"
      },
      "execution_count": 130,
      "outputs": [
        {
          "output_type": "execute_result",
          "data": {
            "text/plain": [
              "                      Title\n",
              "0                       NaN\n",
              "0          Ye Maaya Chesave\n",
              "1  Vinnaithaandi Varuvaayaa\n",
              "2            Baana Kaathadi\n",
              "3           Moscowin Kavery"
            ],
            "text/html": [
              "\n",
              "  <div id=\"df-00913c55-7565-4d11-bcc4-134b89eab115\">\n",
              "    <div class=\"colab-df-container\">\n",
              "      <div>\n",
              "<style scoped>\n",
              "    .dataframe tbody tr th:only-of-type {\n",
              "        vertical-align: middle;\n",
              "    }\n",
              "\n",
              "    .dataframe tbody tr th {\n",
              "        vertical-align: top;\n",
              "    }\n",
              "\n",
              "    .dataframe thead th {\n",
              "        text-align: right;\n",
              "    }\n",
              "</style>\n",
              "<table border=\"1\" class=\"dataframe\">\n",
              "  <thead>\n",
              "    <tr style=\"text-align: right;\">\n",
              "      <th></th>\n",
              "      <th>Title</th>\n",
              "    </tr>\n",
              "  </thead>\n",
              "  <tbody>\n",
              "    <tr>\n",
              "      <th>0</th>\n",
              "      <td>NaN</td>\n",
              "    </tr>\n",
              "    <tr>\n",
              "      <th>0</th>\n",
              "      <td>Ye Maaya Chesave</td>\n",
              "    </tr>\n",
              "    <tr>\n",
              "      <th>1</th>\n",
              "      <td>Vinnaithaandi Varuvaayaa</td>\n",
              "    </tr>\n",
              "    <tr>\n",
              "      <th>2</th>\n",
              "      <td>Baana Kaathadi</td>\n",
              "    </tr>\n",
              "    <tr>\n",
              "      <th>3</th>\n",
              "      <td>Moscowin Kavery</td>\n",
              "    </tr>\n",
              "  </tbody>\n",
              "</table>\n",
              "</div>\n",
              "      <button class=\"colab-df-convert\" onclick=\"convertToInteractive('df-00913c55-7565-4d11-bcc4-134b89eab115')\"\n",
              "              title=\"Convert this dataframe to an interactive table.\"\n",
              "              style=\"display:none;\">\n",
              "        \n",
              "  <svg xmlns=\"http://www.w3.org/2000/svg\" height=\"24px\"viewBox=\"0 0 24 24\"\n",
              "       width=\"24px\">\n",
              "    <path d=\"M0 0h24v24H0V0z\" fill=\"none\"/>\n",
              "    <path d=\"M18.56 5.44l.94 2.06.94-2.06 2.06-.94-2.06-.94-.94-2.06-.94 2.06-2.06.94zm-11 1L8.5 8.5l.94-2.06 2.06-.94-2.06-.94L8.5 2.5l-.94 2.06-2.06.94zm10 10l.94 2.06.94-2.06 2.06-.94-2.06-.94-.94-2.06-.94 2.06-2.06.94z\"/><path d=\"M17.41 7.96l-1.37-1.37c-.4-.4-.92-.59-1.43-.59-.52 0-1.04.2-1.43.59L10.3 9.45l-7.72 7.72c-.78.78-.78 2.05 0 2.83L4 21.41c.39.39.9.59 1.41.59.51 0 1.02-.2 1.41-.59l7.78-7.78 2.81-2.81c.8-.78.8-2.07 0-2.86zM5.41 20L4 18.59l7.72-7.72 1.47 1.35L5.41 20z\"/>\n",
              "  </svg>\n",
              "      </button>\n",
              "      \n",
              "  <style>\n",
              "    .colab-df-container {\n",
              "      display:flex;\n",
              "      flex-wrap:wrap;\n",
              "      gap: 12px;\n",
              "    }\n",
              "\n",
              "    .colab-df-convert {\n",
              "      background-color: #E8F0FE;\n",
              "      border: none;\n",
              "      border-radius: 50%;\n",
              "      cursor: pointer;\n",
              "      display: none;\n",
              "      fill: #1967D2;\n",
              "      height: 32px;\n",
              "      padding: 0 0 0 0;\n",
              "      width: 32px;\n",
              "    }\n",
              "\n",
              "    .colab-df-convert:hover {\n",
              "      background-color: #E2EBFA;\n",
              "      box-shadow: 0px 1px 2px rgba(60, 64, 67, 0.3), 0px 1px 3px 1px rgba(60, 64, 67, 0.15);\n",
              "      fill: #174EA6;\n",
              "    }\n",
              "\n",
              "    [theme=dark] .colab-df-convert {\n",
              "      background-color: #3B4455;\n",
              "      fill: #D2E3FC;\n",
              "    }\n",
              "\n",
              "    [theme=dark] .colab-df-convert:hover {\n",
              "      background-color: #434B5C;\n",
              "      box-shadow: 0px 1px 3px 1px rgba(0, 0, 0, 0.15);\n",
              "      filter: drop-shadow(0px 1px 2px rgba(0, 0, 0, 0.3));\n",
              "      fill: #FFFFFF;\n",
              "    }\n",
              "  </style>\n",
              "\n",
              "      <script>\n",
              "        const buttonEl =\n",
              "          document.querySelector('#df-00913c55-7565-4d11-bcc4-134b89eab115 button.colab-df-convert');\n",
              "        buttonEl.style.display =\n",
              "          google.colab.kernel.accessAllowed ? 'block' : 'none';\n",
              "\n",
              "        async function convertToInteractive(key) {\n",
              "          const element = document.querySelector('#df-00913c55-7565-4d11-bcc4-134b89eab115');\n",
              "          const dataTable =\n",
              "            await google.colab.kernel.invokeFunction('convertToInteractive',\n",
              "                                                     [key], {});\n",
              "          if (!dataTable) return;\n",
              "\n",
              "          const docLinkHtml = 'Like what you see? Visit the ' +\n",
              "            '<a target=\"_blank\" href=https://colab.research.google.com/notebooks/data_table.ipynb>data table notebook</a>'\n",
              "            + ' to learn more about interactive tables.';\n",
              "          element.innerHTML = '';\n",
              "          dataTable['output_type'] = 'display_data';\n",
              "          await google.colab.output.renderOutput(dataTable, element);\n",
              "          const docLink = document.createElement('div');\n",
              "          docLink.innerHTML = docLinkHtml;\n",
              "          element.appendChild(docLink);\n",
              "        }\n",
              "      </script>\n",
              "    </div>\n",
              "  </div>\n",
              "  "
            ]
          },
          "metadata": {},
          "execution_count": 130
        }
      ]
    }
  ]
}